{
 "cells": [
  {
   "cell_type": "code",
   "execution_count": 1,
   "metadata": {},
   "outputs": [],
   "source": [
    "from os import listdir\n",
    "from os.path import isfile, join\n",
    "import pandas as pd\n",
    "from datetime import datetime"
   ]
  },
  {
   "cell_type": "code",
   "execution_count": 29,
   "metadata": {},
   "outputs": [],
   "source": [
    "class Psi:\n",
    "    def __init__(self, path=r'C:\\Users\\JGreenw9\\JNJ\\External Operations Plan - PSI Reports'):\n",
    "        self.path = path\n",
    "        self.files = self.get_files(self.path)\n",
    "        self.filepaths = self.get_filepaths(self.path, self.files)\n",
    "\n",
    "    def get_files(self, path):\n",
    "        return [f for f in listdir(path) if isfile(join(path, f)) and '.xl' in f]\n",
    "\n",
    "    def get_filepaths(self, path, files):\n",
    "        return [path + '\\\\'+ x for x in files]\n",
    "\n",
    "    def read_file(self, filepath):\n",
    "        df = pd.DataFrame()\n",
    "        if '.xlsx' in filepath[-5:]:\n",
    "            df = pd.read_excel(filepath)\n",
    "        elif '.xlsb' in filepath[-5:]:\n",
    "            df = pd.read_excel(filepath, engine='pyxlsb')\n",
    "        else:\n",
    "            pd.DataFrame()\n",
    "        return df\n",
    "\n",
    "    def get_date_header_conv(self, df):\n",
    "        excel_dates = []\n",
    "        date_time : list[datetime] = []\n",
    "        for x in df.columns:\n",
    "            try:\n",
    "                int(x)\n",
    "                excel_dates.append(x)\n",
    "            except (ValueError, TypeError) as e:\n",
    "                if type(x) == datetime:\n",
    "                    date_time.append(x) \n",
    "                else:\n",
    "                    pass               \n",
    "        dates = {}\n",
    "        for date in excel_dates:\n",
    "            dt = datetime.fromordinal(datetime(1900, 1, 1).toordinal() + int(date) - 2)\n",
    "            result = str(dt.date())\n",
    "            dates[date] = result\n",
    "        for date in date_time:\n",
    "            result = str(date.date())\n",
    "            dates[date] = result\n",
    "        return dates\n",
    "\n",
    "    def init_prep_df(self, df : pd.DataFrame):\n",
    "        df.columns = df.iloc[0]\n",
    "        df = df.iloc[1:]\n",
    "        renames = self.get_date_header_conv(df)\n",
    "        df = df.rename(columns=renames)\n",
    "        return df\n",
    "\n",
    "    def get_oh(self, df):\n",
    "        df = df[(df['Key Figure'] == 'Total Demand') | (df['Key Figure'] == 'Projected Inventory')]\n",
    "        df = df[['LocationId', 'ProductId', '2014-01-01']].groupby(by=['LocationId', 'ProductId']).sum().reset_index()\n",
    "        df['Key Figure'] = 'On Hand Inventory'\n",
    "        df['Date'] = '2014-01-01'\n",
    "        df = df.rename(columns={'2014-01-01': 'value'})\n",
    "        return df\n",
    "\n",
    "    def get_supply(self, df):\n",
    "        df = df\n",
    "        df = df[df['VendorDesc'].str.contains('-')]\n",
    "        df = df[df['Key Figure'].isin(['Firm PO Receipt', 'Planned Order Receipt', 'Stock Movement'])]\n",
    "        dates = [x for x in df.columns if '20' in x]\n",
    "        df = pd.melt(df, ['LocationId', 'ProductId', 'Key Figure'], dates, var_name='Date')\n",
    "        df = df[df['value'] != 0].reset_index(drop=True)\n",
    "        return df\n",
    "\n",
    "    def combine_dfs(self, supply, onhand):\n",
    "        df = pd.concat([onhand, supply]).reset_index(drop=True)\n",
    "        df['Key Figure'] = df['Key Figure'].astype(str)\n",
    "        df = pd.pivot(df, ['LocationId', 'ProductId', 'Date'], 'Key Figure', 'value').reset_index()\n",
    "        cal = pd.read_csv(r'\\\\na.jnj.com\\dpyusdfsroot\\RY_Company\\Supply Chain Mgmt\\Spine Plan-NPI\\Teligen\\Alteryx Deployment\\Inputs\\JNJ Calendar.csv')\n",
    "        df = df.merge(cal[['Date (YYYY-MM-DD)', 'YYYYMM']],left_on=['Date'],right_on='Date (YYYY-MM-DD)').drop('Date (YYYY-MM-DD)', axis=1)\n",
    "        df = df.sort_values(['ProductId', 'Date', 'LocationId'])\n",
    "        return df\n",
    "\n",
    "    def final_df(self, df):\n",
    "        supply = self.get_supply(df)\n",
    "        onhand = self.get_oh(df)\n",
    "        df = self.combine_dfs(supply, onhand)\n",
    "        return df\n",
    "\n",
    "    def all_files(self, filepaths):\n",
    "        dfs = []\n",
    "        raw_dfs = []\n",
    "        for filepath in filepaths:\n",
    "            print(filepath)\n",
    "            df = self.read_file(filepath)\n",
    "            raw_dfs.append(df)\n",
    "            df = self.init_prep_df(df)\n",
    "            df = self.final_df(df)\n",
    "            dfs.append(df)\n",
    "        df = pd.concat(dfs)\n",
    "        return df, raw_dfs\n"
   ]
  },
  {
   "cell_type": "code",
   "execution_count": 30,
   "metadata": {},
   "outputs": [
    {
     "name": "stdout",
     "output_type": "stream",
     "text": [
      "C:\\Users\\JGreenw9\\JNJ\\External Operations Plan - PSI Reports\\PSI 22-06-27 BW.xlsb\n",
      "C:\\Users\\JGreenw9\\JNJ\\External Operations Plan - PSI Reports\\PSI 22-06-27 LL.xlsx\n",
      "C:\\Users\\JGreenw9\\JNJ\\External Operations Plan - PSI Reports\\PSI 22-06-27 MM.xlsb\n",
      "C:\\Users\\JGreenw9\\JNJ\\External Operations Plan - PSI Reports\\PSI 22-06-27 SZ.xlsb\n"
     ]
    }
   ],
   "source": [
    "psi = Psi()\n",
    "data, raw_dfs = psi.all_files(psi.filepaths)"
   ]
  },
  {
   "cell_type": "code",
   "execution_count": 31,
   "metadata": {},
   "outputs": [],
   "source": [
    "data.to_clipboard()"
   ]
  },
  {
   "cell_type": "code",
   "execution_count": 41,
   "metadata": {},
   "outputs": [
    {
     "name": "stdout",
     "output_type": "stream",
     "text": [
      ".xlsb\n",
      "xlsb: C:\\Users\\JGreenw9\\JNJ\\External Operations Plan - PSI Reports\\PSI 22-06-27 BW.xlsb\n",
      ".xlsx\n",
      "xlsx: C:\\Users\\JGreenw9\\JNJ\\External Operations Plan - PSI Reports\\PSI 22-06-27 LL.xlsx\n",
      ".xlsb\n",
      "xlsb: C:\\Users\\JGreenw9\\JNJ\\External Operations Plan - PSI Reports\\PSI 22-06-27 MM.xlsb\n",
      ".xlsb\n",
      "xlsb: C:\\Users\\JGreenw9\\JNJ\\External Operations Plan - PSI Reports\\PSI 22-06-27 SZ.xlsb\n"
     ]
    }
   ],
   "source": [
    "for filepath in psi.filepaths:\n",
    "    print(filepath[-5:])\n",
    "    if '.xlsx' in filepath[-5:]:\n",
    "        print(f'xlsx: {filepath}')\n",
    "    elif '.xlsb' in filepath[-5:]:\n",
    "        print(f'xlsb: {filepath}')"
   ]
  }
 ],
 "metadata": {
  "interpreter": {
   "hash": "1259ad38b5b623adc89dd3918f82663dcbce56dc7ae7d91b9bd894421bf94332"
  },
  "kernelspec": {
   "display_name": "Python 3.10.4 ('venv': venv)",
   "language": "python",
   "name": "python3"
  },
  "language_info": {
   "codemirror_mode": {
    "name": "ipython",
    "version": 3
   },
   "file_extension": ".py",
   "mimetype": "text/x-python",
   "name": "python",
   "nbconvert_exporter": "python",
   "pygments_lexer": "ipython3",
   "version": "3.10.4"
  },
  "orig_nbformat": 4
 },
 "nbformat": 4,
 "nbformat_minor": 2
}
