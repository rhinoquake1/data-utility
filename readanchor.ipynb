{
 "cells": [
  {
   "cell_type": "markdown",
   "metadata": {},
   "source": [
    "To do list:\n",
    "\n",
    "- [x] - List all xlsx files in dir\n",
    "\n",
    "> ReadAnchorData.get_xlsx_files()\n",
    "---\n",
    "- [x] - Create dict to identify anchor file category\n",
    "\n",
    ">ReadAnchorData.types\n",
    "---\n",
    "- [x] - Create method for reading each file type and appropiate sheet name\n",
    "    - [x] - BOM\n",
    "    > ReadAnchorData.read_bom()\n",
    "\n",
    "    - [x] - Forecast\n",
    "    > ReadAnchorData.read_fcst()\n",
    "---\n",
    "- [x] - Create method to run through all files and run appropiate method to get data\n",
    "\n",
    "> ReadAnchorData.read_files()\n",
    "---\n",
    "- [x] - Consolidate data into appropaite dataframes with identifier info to seperate out each source/release\n",
    "> ReadAnchorData.prep_group()\n",
    "---\n",
    "- [x] - Write data to file\n",
    "---\n",
    "\n",
    "[ ] - Stretch - write function only read newly added files"
   ]
  },
  {
   "cell_type": "code",
   "execution_count": 1,
   "metadata": {},
   "outputs": [],
   "source": [
    "import pandas as pd\n",
    "import numpy as np\n",
    "from pathlib import Path\n",
    "import random"
   ]
  },
  {
   "cell_type": "code",
   "execution_count": 2,
   "metadata": {},
   "outputs": [],
   "source": [
    "class ReadAnchorData:\n",
    "    '''Usage\n",
    "    -\n",
    "    - Start with reading all xlsx files within a directory\n",
    "\n",
    "    >>> def get_xlsx_files(base_dir)\n",
    "\n",
    "    - Loop through types category, filtering to files that fit within cat and then running the method for pulling the data\n",
    "    \n",
    "    >>> def read_files(file_paths)\n",
    "    This will run the following methods based on the types attr in AnchorCategories\n",
    "    >>> class AnchorCategories.types\n",
    "        >>> def read_fcst()\n",
    "        >>> def read_bom()\n",
    "\n",
    "    - Merge data where applicable\n",
    "    '''\n",
    "\n",
    "    def get_xlsx_files(base_dir):\n",
    "        # Returns all xlsx files (incl subdirs)\n",
    "        file_paths = Path(base_dir).glob(\"*/*.xlsx\")\n",
    "        return [str(x.resolve()) for x in file_paths]\n",
    "\n",
    "\n",
    "    def read_files(file_paths):\n",
    "        dfs = {}\n",
    "        for key, value in AnchorCategories.types.items():\n",
    "            name, method = value\n",
    "            dfs[name] = pd.DataFrame()\n",
    "        for key, value in AnchorCategories.types.items():\n",
    "            name, method = value\n",
    "            print(name)\n",
    "            applicable_files = [x for x in file_paths if key in x]\n",
    "            # applicable_files = ReadAnchorData.get_type_of_file(key, file_paths)\n",
    "            for file in applicable_files:\n",
    "                dfs[name] = pd.concat([method(file, key), dfs[name]])\n",
    "        return dfs\n",
    "\n",
    "    def get_type_of_file(key, file_paths):\n",
    "        return [x for x in file_paths if key in x]\n",
    "\n",
    "    def get_release(filepath : Path):\n",
    "        # The release is given by the name of the parent folder\n",
    "        parentfol = str(filepath.parent.absolute())\n",
    "        return parentfol[len(parentfol)-7:]\n",
    "\n",
    "    def readfcst(filepath, category):\n",
    "        # The xlsx files can contain multiple sheets and no std naming convention. This will open each sheet until it finds the matching indicator columns\n",
    "        # Each forecast will have these indicator columns, but the forecast column headers (202101, 202102 etc) can be different. These are transposed to the YYYYMM column\n",
    "        sheetnames = pd.ExcelFile(filepath).sheet_names\n",
    "        for sheet in sheetnames:\n",
    "            df : pd.DataFrame = pd.read_excel(filepath, sheet, keep_default_na=False)\n",
    "            indicator_cols = ['Total Forecast']\n",
    "            if indicator_cols[0] in df.columns:\n",
    "                df = df.drop('Total Forecast', axis=1)\n",
    "                dates = [i for i in df.columns if '20' in i] # This will get all forecast column names\n",
    "                dims = [i for i in df.columns if '20' not in i] # Inverse of the above\n",
    "                df = df.melt(id_vars=dims, value_vars=dates, var_name='YYYYMM', value_name='SetForecast')\n",
    "                parent, filename = ReadAnchorData.file_info(filepath)\n",
    "                df['release'] = parent[:4]+parent[5:]\n",
    "                df['sourceFile'] = filename\n",
    "                df['keyfigure'] = category\n",
    "                df['isForecast'] = df['YYYYMM'].astype('int32') >= df['release'].astype('int32')\n",
    "                return df\n",
    "\n",
    "    def read_bom(filepath, category):\n",
    "        sheetnames = pd.ExcelFile(filepath).sheet_names\n",
    "        for sheet in sheetnames:\n",
    "            df : pd.DataFrame = pd.read_excel(filepath, sheet)\n",
    "            indicator_cols = ['BOM']\n",
    "            if indicator_cols[0] in df.columns:\n",
    "                parent, filename = ReadAnchorData.file_info(filepath)\n",
    "                df['release'] = parent[:4]+parent[5:]\n",
    "                df['sourcefile'] = filename\n",
    "                return df\n",
    "\n",
    "    def file_info(pth):\n",
    "        start = -1\n",
    "        stop = -1\n",
    "        for _ in range(0, 2):\n",
    "            start = stop\n",
    "            stop = pth[::-1].find(f'\\\\', stop + 1)\n",
    "        parent = pth[len(pth)-stop:len(pth)-start-1]\n",
    "        filename = pth[len(pth)-start:]\n",
    "        return parent, filename\n",
    "\n",
    "    def prep_group(data : dict):\n",
    "        result = {}\n",
    "        for key, value in data.copy().items():\n",
    "            if key == 'BOM':\n",
    "                result[key] = value\n",
    "            elif key == 'SetForecast':\n",
    "                df = value\n",
    "                df = df.reset_index(drop=True)\n",
    "                cols = ['keyfigure', 'sourceFile', 'SetForecast', 'CAPEX Cost$\"', 'CAPEX Cost$', 'Cost$']\n",
    "                df = df.convert_dtypes('string')\n",
    "                key_cols = list(df.columns.drop(cols))\n",
    "                result[key] = pd.pivot_table(df,values='SetForecast',index=key_cols,columns=['keyfigure'],aggfunc=np.sum).reset_index()\n",
    "        return result\n",
    "\n",
    "\n",
    "class AnchorCategories:\n",
    "    types = {\n",
    "        'Bom_Report': ('BOM', ReadAnchorData.read_bom),\n",
    "        'SetsPerMonthcombined': ('SetForecast', ReadAnchorData.readfcst),\n",
    "        'SetsPerMonthConst': ('SetForecast', ReadAnchorData.readfcst),\n",
    "        'SetsPerMonthUnConst': ('SetForecast', ReadAnchorData.readfcst)\n",
    "        }\n"
   ]
  },
  {
   "cell_type": "code",
   "execution_count": 17,
   "metadata": {},
   "outputs": [],
   "source": [
    "base_dir = r'data\\\\'\n",
    "all_files = ReadAnchorData.get_xlsx_files(base_dir)"
   ]
  },
  {
   "cell_type": "code",
   "execution_count": 19,
   "metadata": {},
   "outputs": [
    {
     "data": {
      "text/plain": [
       "['C:\\\\Users\\\\JGreenw9\\\\Desktop\\\\Python\\\\data-utility\\\\data\\\\2021-12\\\\GLOBAL_Sets_PerMonth_COMBINED_REPORT.xlsx',\n",
       " 'C:\\\\Users\\\\JGreenw9\\\\Desktop\\\\Python\\\\data-utility\\\\data\\\\2021-12\\\\GLOBAL_Sets_PerMonth_CONSTRAINED_REPORT.xlsx',\n",
       " 'C:\\\\Users\\\\JGreenw9\\\\Desktop\\\\Python\\\\data-utility\\\\data\\\\2021-12\\\\GLOBAL_Sets_PerMonth_SUPPLYUPDATE_REPORT.xlsx',\n",
       " 'C:\\\\Users\\\\JGreenw9\\\\Desktop\\\\Python\\\\data-utility\\\\data\\\\2021-12\\\\GLOBAL_Sets_PerMonth_UNCONSTRAINED_REPORT.xlsx',\n",
       " 'C:\\\\Users\\\\JGreenw9\\\\Desktop\\\\Python\\\\data-utility\\\\data\\\\2021-12\\\\SP Bom_Report12-06-2021.xlsx',\n",
       " 'C:\\\\Users\\\\JGreenw9\\\\Desktop\\\\Python\\\\data-utility\\\\data\\\\2022-02\\\\GLOBAL_Sets_PerMonth_COMBINED_REPORT.xlsx',\n",
       " 'C:\\\\Users\\\\JGreenw9\\\\Desktop\\\\Python\\\\data-utility\\\\data\\\\2022-02\\\\GLOBAL_Sets_PerMonth_CONSTRAINED_REPORT.xlsx',\n",
       " 'C:\\\\Users\\\\JGreenw9\\\\Desktop\\\\Python\\\\data-utility\\\\data\\\\2022-02\\\\GLOBAL_Sets_PerMonth_SUPPLYUPDATE_REPORT.xlsx',\n",
       " 'C:\\\\Users\\\\JGreenw9\\\\Desktop\\\\Python\\\\data-utility\\\\data\\\\2022-02\\\\GLOBAL_Sets_PerMonth_UNCONSTRAINED_REPORT.xlsx',\n",
       " 'C:\\\\Users\\\\JGreenw9\\\\Desktop\\\\Python\\\\data-utility\\\\data\\\\2022-02\\\\SP Bom_Report02-07-2022.xlsx',\n",
       " 'C:\\\\Users\\\\JGreenw9\\\\Desktop\\\\Python\\\\data-utility\\\\data\\\\2022-03\\\\GLOBAL_Sets_PerMonth_COMBINED_REPORT.xlsx',\n",
       " 'C:\\\\Users\\\\JGreenw9\\\\Desktop\\\\Python\\\\data-utility\\\\data\\\\2022-03\\\\GLOBAL_Sets_PerMonth_CONSTRAINED_REPORT.xlsx',\n",
       " 'C:\\\\Users\\\\JGreenw9\\\\Desktop\\\\Python\\\\data-utility\\\\data\\\\2022-03\\\\GLOBAL_Sets_PerMonth_SUPPLYUPDATE_REPORT.xlsx',\n",
       " 'C:\\\\Users\\\\JGreenw9\\\\Desktop\\\\Python\\\\data-utility\\\\data\\\\2022-03\\\\GLOBAL_Sets_PerMonth_UNCONSTRAINED_REPORT.xlsx',\n",
       " 'C:\\\\Users\\\\JGreenw9\\\\Desktop\\\\Python\\\\data-utility\\\\data\\\\2022-03\\\\SP Bom_Report03-07-2022.xlsx',\n",
       " 'C:\\\\Users\\\\JGreenw9\\\\Desktop\\\\Python\\\\data-utility\\\\data\\\\2022-04\\\\GLOBAL_Sets_PerMonth_COMBINED_REPORT.xlsx',\n",
       " 'C:\\\\Users\\\\JGreenw9\\\\Desktop\\\\Python\\\\data-utility\\\\data\\\\2022-04\\\\GLOBAL_Sets_PerMonth_CONSTRAINED_REPORT.xlsx',\n",
       " 'C:\\\\Users\\\\JGreenw9\\\\Desktop\\\\Python\\\\data-utility\\\\data\\\\2022-04\\\\GLOBAL_Sets_PerMonth_SUPPLYUPDATE_REPORT.xlsx',\n",
       " 'C:\\\\Users\\\\JGreenw9\\\\Desktop\\\\Python\\\\data-utility\\\\data\\\\2022-04\\\\GLOBAL_Sets_PerMonth_UNCONSTRAINED_REPORT.xlsx',\n",
       " 'C:\\\\Users\\\\JGreenw9\\\\Desktop\\\\Python\\\\data-utility\\\\data\\\\2022-04\\\\SP Bom_Report04-11-2022.xlsx',\n",
       " 'C:\\\\Users\\\\JGreenw9\\\\Desktop\\\\Python\\\\data-utility\\\\data\\\\2022-05\\\\GLOBAL_Sets_PerMonth_COMBINED_REPORT.xlsx',\n",
       " 'C:\\\\Users\\\\JGreenw9\\\\Desktop\\\\Python\\\\data-utility\\\\data\\\\2022-05\\\\GLOBAL_Sets_PerMonth_CONSTRAINED_REPORT.xlsx',\n",
       " 'C:\\\\Users\\\\JGreenw9\\\\Desktop\\\\Python\\\\data-utility\\\\data\\\\2022-05\\\\GLOBAL_Sets_PerMonth_SUPPLYUPDATE_REPORT.xlsx',\n",
       " 'C:\\\\Users\\\\JGreenw9\\\\Desktop\\\\Python\\\\data-utility\\\\data\\\\2022-05\\\\GLOBAL_Sets_PerMonth_UNCONSTRAINED_REPORT.xlsx',\n",
       " 'C:\\\\Users\\\\JGreenw9\\\\Desktop\\\\Python\\\\data-utility\\\\data\\\\2022-05\\\\SP Bom_Report05-09-2022.xlsx',\n",
       " 'C:\\\\Users\\\\JGreenw9\\\\Desktop\\\\Python\\\\data-utility\\\\data\\\\2022-06\\\\GLOBAL_Sets_PerMonth_COMBINED_REPORT.xlsx',\n",
       " 'C:\\\\Users\\\\JGreenw9\\\\Desktop\\\\Python\\\\data-utility\\\\data\\\\2022-06\\\\GLOBAL_Sets_PerMonth_CONSTRAINED_REPORT.xlsx',\n",
       " 'C:\\\\Users\\\\JGreenw9\\\\Desktop\\\\Python\\\\data-utility\\\\data\\\\2022-06\\\\GLOBAL_Sets_PerMonth_SUPPLYUPDATE_REPORT.xlsx',\n",
       " 'C:\\\\Users\\\\JGreenw9\\\\Desktop\\\\Python\\\\data-utility\\\\data\\\\2022-06\\\\GLOBAL_Sets_PerMonth_UNCONSTRAINED_REPORT.xlsx',\n",
       " 'C:\\\\Users\\\\JGreenw9\\\\Desktop\\\\Python\\\\data-utility\\\\data\\\\2022-06\\\\SP Bom_Report06-06-2022.xlsx']"
      ]
     },
     "execution_count": 19,
     "metadata": {},
     "output_type": "execute_result"
    }
   ],
   "source": [
    "all_files"
   ]
  },
  {
   "cell_type": "code",
   "execution_count": 6,
   "metadata": {},
   "outputs": [
    {
     "data": {
      "text/plain": [
       "['\\\\\\\\na.jnj.com\\\\dpyusdfsroot\\\\RY_Company\\\\Supply Chain Mgmt\\\\Spine Plan-NPI\\\\Conduit\\\\Jonny\\\\Powerbi\\\\Anchor\\\\2022-02\\\\SP WW 202202-202401 SetsPerMonthcombined02-08-2022.xlsx',\n",
       " '\\\\\\\\na.jnj.com\\\\dpyusdfsroot\\\\RY_Company\\\\Supply Chain Mgmt\\\\Spine Plan-NPI\\\\Conduit\\\\Jonny\\\\Powerbi\\\\Anchor\\\\2022-01\\\\SP WW 202201-202312 SetsPerMonthUnConst01-10-2022.xlsx',\n",
       " '\\\\\\\\na.jnj.com\\\\dpyusdfsroot\\\\RY_Company\\\\Supply Chain Mgmt\\\\Spine Plan-NPI\\\\Conduit\\\\Jonny\\\\Powerbi\\\\Anchor\\\\2021-09\\\\SP WW 202109 - 202308 SetsPerMonthcombined09-06-2021.xlsx',\n",
       " '\\\\\\\\na.jnj.com\\\\dpyusdfsroot\\\\RY_Company\\\\Supply Chain Mgmt\\\\Spine Plan-NPI\\\\Conduit\\\\Jonny\\\\Powerbi\\\\Anchor\\\\2022-02\\\\SP WW 202202-202401 SetsPerMonthConst02-08-202202-08-2022.xlsx']"
      ]
     },
     "execution_count": 6,
     "metadata": {},
     "output_type": "execute_result"
    }
   ],
   "source": [
    "paths_to_use = random.choices(all_files,k=4)\n",
    "paths_to_use"
   ]
  },
  {
   "cell_type": "code",
   "execution_count": 8,
   "metadata": {},
   "outputs": [
    {
     "name": "stdout",
     "output_type": "stream",
     "text": [
      "BOM\n"
     ]
    },
    {
     "name": "stderr",
     "output_type": "stream",
     "text": [
      "c:\\Users\\JGreenw9\\Desktop\\Python\\data-utility\\venv\\lib\\site-packages\\openpyxl\\styles\\stylesheet.py:226: UserWarning: Workbook contains no default style, apply openpyxl's default\n",
      "  warn(\"Workbook contains no default style, apply openpyxl's default\")\n",
      "c:\\Users\\JGreenw9\\Desktop\\Python\\data-utility\\venv\\lib\\site-packages\\openpyxl\\styles\\stylesheet.py:226: UserWarning: Workbook contains no default style, apply openpyxl's default\n",
      "  warn(\"Workbook contains no default style, apply openpyxl's default\")\n"
     ]
    },
    {
     "ename": "ValueError",
     "evalue": "Excel file format cannot be determined, you must specify an engine manually.",
     "output_type": "error",
     "traceback": [
      "\u001b[1;31m---------------------------------------------------------------------------\u001b[0m",
      "\u001b[1;31mValueError\u001b[0m                                Traceback (most recent call last)",
      "\u001b[1;32mc:\\Users\\JGreenw9\\Desktop\\Python\\data-utility\\readanchor.ipynb Cell 6'\u001b[0m in \u001b[0;36m<cell line: 1>\u001b[1;34m()\u001b[0m\n\u001b[1;32m----> <a href='vscode-notebook-cell:/c%3A/Users/JGreenw9/Desktop/Python/data-utility/readanchor.ipynb#ch0000005?line=0'>1</a>\u001b[0m data \u001b[39m=\u001b[39m ReadAnchorData\u001b[39m.\u001b[39;49mread_files(all_files)\n",
      "\u001b[1;32mc:\\Users\\JGreenw9\\Desktop\\Python\\data-utility\\readanchor.ipynb Cell 3'\u001b[0m in \u001b[0;36mReadAnchorData.read_files\u001b[1;34m(file_paths)\u001b[0m\n\u001b[0;32m     <a href='vscode-notebook-cell:/c%3A/Users/JGreenw9/Desktop/Python/data-utility/readanchor.ipynb#ch0000002?line=33'>34</a>\u001b[0m     \u001b[39m# applicable_files = ReadAnchorData.get_type_of_file(key, file_paths)\u001b[39;00m\n\u001b[0;32m     <a href='vscode-notebook-cell:/c%3A/Users/JGreenw9/Desktop/Python/data-utility/readanchor.ipynb#ch0000002?line=34'>35</a>\u001b[0m     \u001b[39mfor\u001b[39;00m file \u001b[39min\u001b[39;00m applicable_files:\n\u001b[1;32m---> <a href='vscode-notebook-cell:/c%3A/Users/JGreenw9/Desktop/Python/data-utility/readanchor.ipynb#ch0000002?line=35'>36</a>\u001b[0m         dfs[name] \u001b[39m=\u001b[39m pd\u001b[39m.\u001b[39mconcat([method(file, key), dfs[name]])\n\u001b[0;32m     <a href='vscode-notebook-cell:/c%3A/Users/JGreenw9/Desktop/Python/data-utility/readanchor.ipynb#ch0000002?line=36'>37</a>\u001b[0m \u001b[39mreturn\u001b[39;00m dfs\n",
      "\u001b[1;32mc:\\Users\\JGreenw9\\Desktop\\Python\\data-utility\\readanchor.ipynb Cell 3'\u001b[0m in \u001b[0;36mReadAnchorData.read_bom\u001b[1;34m(filepath, category)\u001b[0m\n\u001b[0;32m     <a href='vscode-notebook-cell:/c%3A/Users/JGreenw9/Desktop/Python/data-utility/readanchor.ipynb#ch0000002?line=65'>66</a>\u001b[0m \u001b[39mdef\u001b[39;00m \u001b[39mread_bom\u001b[39m(filepath, category):\n\u001b[1;32m---> <a href='vscode-notebook-cell:/c%3A/Users/JGreenw9/Desktop/Python/data-utility/readanchor.ipynb#ch0000002?line=66'>67</a>\u001b[0m     sheetnames \u001b[39m=\u001b[39m pd\u001b[39m.\u001b[39;49mExcelFile(filepath)\u001b[39m.\u001b[39msheet_names\n\u001b[0;32m     <a href='vscode-notebook-cell:/c%3A/Users/JGreenw9/Desktop/Python/data-utility/readanchor.ipynb#ch0000002?line=67'>68</a>\u001b[0m     \u001b[39mfor\u001b[39;00m sheet \u001b[39min\u001b[39;00m sheetnames:\n\u001b[0;32m     <a href='vscode-notebook-cell:/c%3A/Users/JGreenw9/Desktop/Python/data-utility/readanchor.ipynb#ch0000002?line=68'>69</a>\u001b[0m         df : pd\u001b[39m.\u001b[39mDataFrame \u001b[39m=\u001b[39m pd\u001b[39m.\u001b[39mread_excel(filepath, sheet)\n",
      "File \u001b[1;32mc:\\Users\\JGreenw9\\Desktop\\Python\\data-utility\\venv\\lib\\site-packages\\pandas\\io\\excel\\_base.py:1380\u001b[0m, in \u001b[0;36mExcelFile.__init__\u001b[1;34m(self, path_or_buffer, engine, storage_options)\u001b[0m\n\u001b[0;32m   <a href='file:///c%3A/Users/JGreenw9/Desktop/Python/data-utility/venv/lib/site-packages/pandas/io/excel/_base.py?line=1375'>1376</a>\u001b[0m     ext \u001b[39m=\u001b[39m inspect_excel_format(\n\u001b[0;32m   <a href='file:///c%3A/Users/JGreenw9/Desktop/Python/data-utility/venv/lib/site-packages/pandas/io/excel/_base.py?line=1376'>1377</a>\u001b[0m         content_or_path\u001b[39m=\u001b[39mpath_or_buffer, storage_options\u001b[39m=\u001b[39mstorage_options\n\u001b[0;32m   <a href='file:///c%3A/Users/JGreenw9/Desktop/Python/data-utility/venv/lib/site-packages/pandas/io/excel/_base.py?line=1377'>1378</a>\u001b[0m     )\n\u001b[0;32m   <a href='file:///c%3A/Users/JGreenw9/Desktop/Python/data-utility/venv/lib/site-packages/pandas/io/excel/_base.py?line=1378'>1379</a>\u001b[0m     \u001b[39mif\u001b[39;00m ext \u001b[39mis\u001b[39;00m \u001b[39mNone\u001b[39;00m:\n\u001b[1;32m-> <a href='file:///c%3A/Users/JGreenw9/Desktop/Python/data-utility/venv/lib/site-packages/pandas/io/excel/_base.py?line=1379'>1380</a>\u001b[0m         \u001b[39mraise\u001b[39;00m \u001b[39mValueError\u001b[39;00m(\n\u001b[0;32m   <a href='file:///c%3A/Users/JGreenw9/Desktop/Python/data-utility/venv/lib/site-packages/pandas/io/excel/_base.py?line=1380'>1381</a>\u001b[0m             \u001b[39m\"\u001b[39m\u001b[39mExcel file format cannot be determined, you must specify \u001b[39m\u001b[39m\"\u001b[39m\n\u001b[0;32m   <a href='file:///c%3A/Users/JGreenw9/Desktop/Python/data-utility/venv/lib/site-packages/pandas/io/excel/_base.py?line=1381'>1382</a>\u001b[0m             \u001b[39m\"\u001b[39m\u001b[39man engine manually.\u001b[39m\u001b[39m\"\u001b[39m\n\u001b[0;32m   <a href='file:///c%3A/Users/JGreenw9/Desktop/Python/data-utility/venv/lib/site-packages/pandas/io/excel/_base.py?line=1382'>1383</a>\u001b[0m         )\n\u001b[0;32m   <a href='file:///c%3A/Users/JGreenw9/Desktop/Python/data-utility/venv/lib/site-packages/pandas/io/excel/_base.py?line=1384'>1385</a>\u001b[0m engine \u001b[39m=\u001b[39m config\u001b[39m.\u001b[39mget_option(\u001b[39mf\u001b[39m\u001b[39m\"\u001b[39m\u001b[39mio.excel.\u001b[39m\u001b[39m{\u001b[39;00mext\u001b[39m}\u001b[39;00m\u001b[39m.reader\u001b[39m\u001b[39m\"\u001b[39m, silent\u001b[39m=\u001b[39m\u001b[39mTrue\u001b[39;00m)\n\u001b[0;32m   <a href='file:///c%3A/Users/JGreenw9/Desktop/Python/data-utility/venv/lib/site-packages/pandas/io/excel/_base.py?line=1385'>1386</a>\u001b[0m \u001b[39mif\u001b[39;00m engine \u001b[39m==\u001b[39m \u001b[39m\"\u001b[39m\u001b[39mauto\u001b[39m\u001b[39m\"\u001b[39m:\n",
      "\u001b[1;31mValueError\u001b[0m: Excel file format cannot be determined, you must specify an engine manually."
     ]
    }
   ],
   "source": [
    "data = ReadAnchorData.read_files(all_files)"
   ]
  },
  {
   "cell_type": "code",
   "execution_count": 6,
   "metadata": {},
   "outputs": [],
   "source": [
    "data_prepped = ReadAnchorData.prep_group(data)"
   ]
  },
  {
   "cell_type": "code",
   "execution_count": 7,
   "metadata": {},
   "outputs": [
    {
     "name": "stdout",
     "output_type": "stream",
     "text": [
      "C:\\Users\\jgreenw9\\Desktop\\Waterfall\\BOM.csv\n",
      "C:\\Users\\jgreenw9\\Desktop\\Waterfall\\SetForecast.csv\n"
     ]
    }
   ],
   "source": [
    "write_dir = r'C:\\Users\\jgreenw9\\Desktop\\Waterfall'\n",
    "for key, value in data_prepped.items():\n",
    "    print(f'{write_dir}\\\\{key}.csv')\n",
    "    value.to_csv(f'{write_dir}\\\\{key}.csv', index=False)\n"
   ]
  }
 ],
 "metadata": {
  "interpreter": {
   "hash": "1259ad38b5b623adc89dd3918f82663dcbce56dc7ae7d91b9bd894421bf94332"
  },
  "kernelspec": {
   "display_name": "Python 3.10.4 ('venv': venv)",
   "language": "python",
   "name": "python3"
  },
  "language_info": {
   "codemirror_mode": {
    "name": "ipython",
    "version": 3
   },
   "file_extension": ".py",
   "mimetype": "text/x-python",
   "name": "python",
   "nbconvert_exporter": "python",
   "pygments_lexer": "ipython3",
   "version": "3.10.4"
  },
  "orig_nbformat": 4
 },
 "nbformat": 4,
 "nbformat_minor": 2
}
