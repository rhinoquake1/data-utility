{
 "cells": [
  {
   "cell_type": "code",
   "execution_count": 31,
   "metadata": {},
   "outputs": [],
   "source": [
    "import pandas as pd\n",
    "import numpy as np\n",
    "from pathlib import Path"
   ]
  },
  {
   "cell_type": "code",
   "execution_count": 59,
   "metadata": {},
   "outputs": [],
   "source": [
    "class ReadAnchorData:\n",
    "    @staticmethod\n",
    "    def get_set_forecast(filepaths : Path):\n",
    "        for i in filepaths:\n",
    "            sheetnames = pd.ExcelFile(i).sheet_names\n",
    "            dfs = ReadAnchorData.readfcst(i, sheetnames)\n",
    "        return dfs\n",
    "\n",
    "    def get_type(filepath : Path[0]):\n",
    "        # Each file name will specify what the data type is, this is to standardise the naming convention as given in the types dict.\n",
    "        # key = filename, value = standardised name\n",
    "        types = {\n",
    "            'Bom_Report' : 'BOM',\n",
    "            'SetsPerMonthcombined': 'Combined',\n",
    "            'SetsPerMonthConst': 'Constrained',\n",
    "            'SetsPerMonthUnConst': 'Unconstrained'\n",
    "        }\n",
    "        filepath_str = str(filepath)\n",
    "\n",
    "        try:\n",
    "            for key, val in types:\n",
    "                if key in filepath_str:\n",
    "                    return val\n",
    "        except:\n",
    "            return 'unknown'\n",
    "\n",
    "    def get_release(filepath : Path):\n",
    "        # The release is given by the name of the parent folder\n",
    "        parentfol = str(filepath.parent.absolute())\n",
    "        return parentfol[len(parentfol)-7:]\n",
    "\n",
    "\n",
    "    def get_xlsx_files(base_dir):\n",
    "        # Returns all xlsx files (incl subdirs)\n",
    "        return Path(base_dir).glob(\"*/*.xlsx\")\n",
    "\n",
    "    def readfcst(filepath, sheetname):\n",
    "        # The xlsx files can contain multiple sheets and no std naming convention. This will open each sheet until it finds the matching indicator columns\n",
    "        # Each forecast will have these indicator columns, but the forecast column headers (202101, 202102 etc) can be different. These are transposed to the YYYYMM column\n",
    "        for sheet in sheetname:\n",
    "            df : pd.DataFrame = pd.read_excel(filepath, sheet)\n",
    "            indicator_cols = ['Total Forecast']\n",
    "            if indicator_cols[0] in df.columns:\n",
    "                df = df.drop('Total Forecast', axis=1)\n",
    "                dates = [i for i in df.columns if '20' in i] # This will get all forecast column names\n",
    "                dims = [i for i in df.columns if '20' not in i] # Inverse of the above\n",
    "                df = df.melt(id_vars=dims, value_vars=dates, var_name='YYYYMM', value_name='SetForecast')\n",
    "                df['release'] = ReadAnchorData.get_release(filepath)\n",
    "                df['KeyFigure'] = ReadAnchorData.get_type(filepath)\n",
    "                return df\n",
    "    \n",
    "    def read_bom(filepath, sheetname):\n",
    "        for sheet in sheetname:\n",
    "            df : pd.DataFrame = pd.read_excel(filepath, sheet)\n",
    "            indicator_cols = ['BOM']\n",
    "            if indicator_cols[0] in df.columns:\n",
    "                df = df.drop('Total Forecast', axis=1)\n",
    "                df['release'] = ReadAnchorData.get_release(filepath)\n",
    "                return df"
   ]
  },
  {
   "cell_type": "code",
   "execution_count": 60,
   "metadata": {},
   "outputs": [],
   "source": [
    "base_dir = r'\\\\na.jnj.com\\dpyusdfsroot\\RY_Company\\Supply Chain Mgmt\\Spine Plan-NPI\\Conduit\\Jonny\\Powerbi\\Anchor'\n",
    "all_files = ReadAnchorData.get_xlsx_files(base_dir)"
   ]
  },
  {
   "cell_type": "code",
   "execution_count": null,
   "metadata": {},
   "outputs": [],
   "source": [
    "ReadAnchorData.get_release(list(all_files)[0])"
   ]
  }
 ],
 "metadata": {
  "interpreter": {
   "hash": "66d9860f36bb69b5a0c70456a8f9028668343a2bc45db99e8e0e6d38c8eba860"
  },
  "kernelspec": {
   "display_name": "Python 3.9.7 64-bit ('venv': venv)",
   "language": "python",
   "name": "python3"
  },
  "language_info": {
   "codemirror_mode": {
    "name": "ipython",
    "version": 3
   },
   "file_extension": ".py",
   "mimetype": "text/x-python",
   "name": "python",
   "nbconvert_exporter": "python",
   "pygments_lexer": "ipython3",
   "version": "3.9.7"
  },
  "orig_nbformat": 4
 },
 "nbformat": 4,
 "nbformat_minor": 2
}
