{
 "cells": [
  {
   "cell_type": "markdown",
   "metadata": {},
   "source": [
    "To do list:\n",
    "\n",
    "- [x] - List all xlsx files in dir\n",
    "\n",
    "> ReadAnchorData.get_xlsx_files()\n",
    "---\n",
    "- [x] - Create dict to identify anchor file category\n",
    "\n",
    ">ReadAnchorData.types\n",
    "---\n",
    "- [x] - Create method for reading each file type and appropiate sheet name\n",
    "    - [x] - BOM\n",
    "    > ReadAnchorData.read_bom()\n",
    "\n",
    "    - [x] - Forecast\n",
    "    > ReadAnchorData.read_fcst()\n",
    "---\n",
    "- [x] - Create method to run through all files and run appropiate method to get data\n",
    "\n",
    "> ReadAnchorData.read_files()\n",
    "---\n",
    "- [x] - Consolidate data into appropaite dataframes with identifier info to seperate out each source/release\n",
    "> ReadAnchorData.prep_group()\n",
    "---\n",
    "- [x] - Write data to file\n",
    "---\n",
    "\n",
    "[ ] - Stretch - write function only read newly added files"
   ]
  },
  {
   "cell_type": "code",
   "execution_count": 2,
   "metadata": {},
   "outputs": [],
   "source": [
    "import pandas as pd\n",
    "import numpy as np\n",
    "from pathlib import Path\n",
    "import random"
   ]
  },
  {
   "cell_type": "code",
   "execution_count": 2,
   "metadata": {},
   "outputs": [],
   "source": [
    "class ReadAnchorData:\n",
    "    '''Usage\n",
    "    -\n",
    "    - Start with reading all xlsx files within a directory\n",
    "\n",
    "    >>> def get_xlsx_files(base_dir)\n",
    "\n",
    "    - Loop through types category, filtering to files that fit within cat and then running the method for pulling the data\n",
    "    \n",
    "    >>> def read_files(file_paths)\n",
    "    This will run the following methods based on the types attr in AnchorCategories\n",
    "    >>> class AnchorCategories.types\n",
    "        >>> def read_fcst()\n",
    "        >>> def read_bom()\n",
    "\n",
    "    - Merge data where applicable\n",
    "    '''\n",
    "\n",
    "    def get_xlsx_files(base_dir):\n",
    "        # Returns all xlsx files (incl subdirs)\n",
    "        file_paths = Path(base_dir).glob(\"*/*.xlsx\")\n",
    "        return [str(x.resolve()) for x in file_paths]\n",
    "\n",
    "\n",
    "    def read_files(file_paths):\n",
    "        dfs = {}\n",
    "        for key, value in AnchorCategories.types.items():\n",
    "            name, method = value\n",
    "            dfs[name] = pd.DataFrame()\n",
    "        for key, value in AnchorCategories.types.items():\n",
    "            name, method = value\n",
    "            print(name)\n",
    "            applicable_files = [x for x in file_paths if key in x]\n",
    "            # applicable_files = ReadAnchorData.get_type_of_file(key, file_paths)\n",
    "            for file in applicable_files:\n",
    "                dfs[name] = pd.concat([method(file, key), dfs[name]])\n",
    "        return dfs\n",
    "\n",
    "    def get_type_of_file(key, file_paths):\n",
    "        return [x for x in file_paths if key in x]\n",
    "\n",
    "    def get_release(filepath : Path):\n",
    "        # The release is given by the name of the parent folder\n",
    "        parentfol = str(filepath.parent.absolute())\n",
    "        return parentfol[len(parentfol)-7:]\n",
    "\n",
    "    def readfcst(filepath, category):\n",
    "        # The xlsx files can contain multiple sheets and no std naming convention. This will open each sheet until it finds the matching indicator columns\n",
    "        # Each forecast will have these indicator columns, but the forecast column headers (202101, 202102 etc) can be different. These are transposed to the YYYYMM column\n",
    "        sheetnames = pd.ExcelFile(filepath).sheet_names\n",
    "        for sheet in sheetnames:\n",
    "            df : pd.DataFrame = pd.read_excel(filepath, sheet, keep_default_na=False)\n",
    "            indicator_cols = ['Total Forecast']\n",
    "            if indicator_cols[0] in df.columns:\n",
    "                df = df.drop('Total Forecast', axis=1)\n",
    "                dates = [i for i in df.columns if '20' in i] # This will get all forecast column names\n",
    "                dims = [i for i in df.columns if '20' not in i] # Inverse of the above\n",
    "                df = df.melt(id_vars=dims, value_vars=dates, var_name='YYYYMM', value_name='SetForecast')\n",
    "                parent, filename = ReadAnchorData.file_info(filepath)\n",
    "                df['release'] = parent[:4]+parent[5:]\n",
    "                df['sourceFile'] = filename\n",
    "                df['keyfigure'] = category\n",
    "                df['isForecast'] = df['YYYYMM'].astype('int32') >= df['release'].astype('int32')\n",
    "                return df\n",
    "\n",
    "    def read_bom(filepath, category):\n",
    "        sheetnames = pd.ExcelFile(filepath).sheet_names\n",
    "        for sheet in sheetnames:\n",
    "            df : pd.DataFrame = pd.read_excel(filepath, sheet)\n",
    "            indicator_cols = ['BOM']\n",
    "            if indicator_cols[0] in df.columns:\n",
    "                parent, filename = ReadAnchorData.file_info(filepath)\n",
    "                df['release'] = parent[:4]+parent[5:]\n",
    "                df['sourcefile'] = filename\n",
    "                return df\n",
    "\n",
    "    def file_info(pth):\n",
    "        start = -1\n",
    "        stop = -1\n",
    "        for _ in range(0, 2):\n",
    "            start = stop\n",
    "            stop = pth[::-1].find(f'\\\\', stop + 1)\n",
    "        parent = pth[len(pth)-stop:len(pth)-start-1]\n",
    "        filename = pth[len(pth)-start:]\n",
    "        return parent, filename\n",
    "\n",
    "    def prep_group(data : dict):\n",
    "        result = {}\n",
    "        for key, value in data.copy().items():\n",
    "            if key == 'BOM':\n",
    "                result[key] = value\n",
    "            elif key == 'SetForecast':\n",
    "                df = value\n",
    "                df = df.reset_index(drop=True)\n",
    "                cols = ['keyfigure', 'sourceFile', 'SetForecast', 'CAPEX Cost$\"', 'CAPEX Cost$', 'Cost$']\n",
    "                df = df.convert_dtypes('string')\n",
    "                key_cols = list(df.columns.drop(cols))\n",
    "                result[key] = pd.pivot_table(df,values='SetForecast',index=key_cols,columns=['keyfigure'],aggfunc=np.sum).reset_index()\n",
    "        return result\n",
    "\n",
    "\n",
    "class AnchorCategories:\n",
    "    types = {\n",
    "        'Bom_Report': ('BOM', ReadAnchorData.read_bom),\n",
    "        'SetsPerMonthcombined': ('SetForecast', ReadAnchorData.readfcst),\n",
    "        'SetsPerMonthConst': ('SetForecast', ReadAnchorData.readfcst),\n",
    "        'SetsPerMonthUnConst': ('SetForecast', ReadAnchorData.readfcst)\n",
    "        }\n"
   ]
  },
  {
   "cell_type": "code",
   "execution_count": 3,
   "metadata": {},
   "outputs": [],
   "source": [
    "base_dir = r'\\\\na.jnj.com\\dpyusdfsroot\\RY_Company\\Supply Chain Mgmt\\Spine Plan-NPI\\Conduit\\Jonny\\Powerbi\\Anchor'\n",
    "all_files = ReadAnchorData.get_xlsx_files(base_dir)"
   ]
  },
  {
   "cell_type": "code",
   "execution_count": 4,
   "metadata": {},
   "outputs": [
    {
     "data": {
      "text/plain": [
       "['\\\\\\\\na.jnj.com\\\\dpyusdfsroot\\\\RY_Company\\\\Supply Chain Mgmt\\\\Spine Plan-NPI\\\\Conduit\\\\Jonny\\\\Powerbi\\\\Anchor\\\\2021-08\\\\SP WW 202108-202307 SetsPerMonthcombined08-09-2021.xlsx',\n",
       " '\\\\\\\\na.jnj.com\\\\dpyusdfsroot\\\\RY_Company\\\\Supply Chain Mgmt\\\\Spine Plan-NPI\\\\Conduit\\\\Jonny\\\\Powerbi\\\\Anchor\\\\2021-10\\\\SP WW 202110-202309 SetsPerMonthUnConst10-11-2021.xlsx',\n",
       " '\\\\\\\\na.jnj.com\\\\dpyusdfsroot\\\\RY_Company\\\\Supply Chain Mgmt\\\\Spine Plan-NPI\\\\Conduit\\\\Jonny\\\\Powerbi\\\\Anchor\\\\2021-10\\\\SP WW 202110-202309 SetsPerMonthConst10-11-2021.xlsx',\n",
       " '\\\\\\\\na.jnj.com\\\\dpyusdfsroot\\\\RY_Company\\\\Supply Chain Mgmt\\\\Spine Plan-NPI\\\\Conduit\\\\Jonny\\\\Powerbi\\\\Anchor\\\\2022-01\\\\SP WW 202201-202312 SetsPerMonthcombined.xlsx']"
      ]
     },
     "execution_count": 4,
     "metadata": {},
     "output_type": "execute_result"
    }
   ],
   "source": [
    "paths_to_use = random.choices(all_files,k=4)\n",
    "paths_to_use"
   ]
  },
  {
   "cell_type": "code",
   "execution_count": 5,
   "metadata": {},
   "outputs": [
    {
     "name": "stdout",
     "output_type": "stream",
     "text": [
      "BOM\n"
     ]
    },
    {
     "name": "stderr",
     "output_type": "stream",
     "text": [
      "c:\\Users\\jgreenw9\\Desktop\\Python\\20210113 Set Deployment\\venv\\lib\\site-packages\\openpyxl\\styles\\stylesheet.py:226: UserWarning: Workbook contains no default style, apply openpyxl's default\n",
      "  warn(\"Workbook contains no default style, apply openpyxl's default\")\n"
     ]
    },
    {
     "name": "stdout",
     "output_type": "stream",
     "text": [
      "SetForecast\n",
      "SetForecast\n",
      "SetForecast\n"
     ]
    }
   ],
   "source": [
    "data = ReadAnchorData.read_files(all_files)"
   ]
  },
  {
   "cell_type": "code",
   "execution_count": 6,
   "metadata": {},
   "outputs": [],
   "source": [
    "data_prepped = ReadAnchorData.prep_group(data)"
   ]
  },
  {
   "cell_type": "code",
   "execution_count": 7,
   "metadata": {},
   "outputs": [
    {
     "name": "stdout",
     "output_type": "stream",
     "text": [
      "C:\\Users\\jgreenw9\\Desktop\\Waterfall\\BOM.csv\n",
      "C:\\Users\\jgreenw9\\Desktop\\Waterfall\\SetForecast.csv\n"
     ]
    }
   ],
   "source": [
    "write_dir = r'C:\\Users\\jgreenw9\\Desktop\\Waterfall'\n",
    "for key, value in data_prepped.items():\n",
    "    print(f'{write_dir}\\\\{key}.csv')\n",
    "    value.to_csv(f'{write_dir}\\\\{key}.csv', index=False)\n"
   ]
  }
 ],
 "metadata": {
  "interpreter": {
   "hash": "1259ad38b5b623adc89dd3918f82663dcbce56dc7ae7d91b9bd894421bf94332"
  },
  "kernelspec": {
   "display_name": "Python 3.10.4 ('venv': venv)",
   "language": "python",
   "name": "python3"
  },
  "language_info": {
   "codemirror_mode": {
    "name": "ipython",
    "version": 3
   },
   "file_extension": ".py",
   "mimetype": "text/x-python",
   "name": "python",
   "nbconvert_exporter": "python",
   "pygments_lexer": "ipython3",
   "version": "3.10.4"
  },
  "orig_nbformat": 4
 },
 "nbformat": 4,
 "nbformat_minor": 2
}
