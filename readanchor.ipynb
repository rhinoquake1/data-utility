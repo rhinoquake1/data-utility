{
 "cells": [
  {
   "cell_type": "code",
   "execution_count": 140,
   "metadata": {},
   "outputs": [],
   "source": [
    "import pandas as pd\n",
    "import numpy as np\n",
    "from pathlib import Path"
   ]
  },
  {
   "cell_type": "code",
   "execution_count": 141,
   "metadata": {},
   "outputs": [],
   "source": [
    "class ReadAnchorData:\n",
    "    '''Usage\n",
    "    -\n",
    "    - Start with reading all xlsx files within a directory\n",
    "\n",
    "    >>> def get_xlsx_files(base_dir)\n",
    "\n",
    "    - Loop through types category, filtering to files that fit within cat and then running the method for pulling the data\n",
    "    \n",
    "    >>> def read_files(file_paths)\n",
    "    This will run the following methods based on the types attr in AnchorCategories\n",
    "    >>> class AnchorCategories.types\n",
    "        >>> def read_fcst()\n",
    "        >>> def read_bom()\n",
    "\n",
    "    - Merge data where applicable\n",
    "    '''\n",
    "\n",
    "    def get_xlsx_files(base_dir):\n",
    "        # Returns all xlsx files (incl subdirs)\n",
    "        file_paths = Path(base_dir).glob(\"*/*.xlsx\")\n",
    "        return [str(x.resolve()) for x in file_paths]\n",
    "\n",
    "\n",
    "    def read_files(file_paths):\n",
    "        dfs = []\n",
    "        for key, value in AnchorCategories.types.items():\n",
    "            applicable_files = [x for x in file_paths if key in x]\n",
    "            # applicable_files = ReadAnchorData.get_type_of_file(key, file_paths)\n",
    "            for file in applicable_files:\n",
    "                dfs.append(value(file))\n",
    "        return dfs\n",
    "\n",
    "    def get_type_of_file(key, file_paths):\n",
    "        return [x for x in file_paths if key in x]\n",
    "\n",
    "    def get_release(filepath : Path):\n",
    "        # The release is given by the name of the parent folder\n",
    "        parentfol = str(filepath.parent.absolute())\n",
    "        return parentfol[len(parentfol)-7:]\n",
    "\n",
    "    def readfcst(filepath):\n",
    "        # The xlsx files can contain multiple sheets and no std naming convention. This will open each sheet until it finds the matching indicator columns\n",
    "        # Each forecast will have these indicator columns, but the forecast column headers (202101, 202102 etc) can be different. These are transposed to the YYYYMM column\n",
    "        sheetnames = pd.ExcelFile(filepath).sheet_names\n",
    "        for sheet in sheetnames:\n",
    "            df : pd.DataFrame = pd.read_excel(filepath, sheet)\n",
    "            indicator_cols = ['Total Forecast']\n",
    "            if indicator_cols[0] in df.columns:\n",
    "                df = df.drop('Total Forecast', axis=1)\n",
    "                dates = [i for i in df.columns if '20' in i] # This will get all forecast column names\n",
    "                dims = [i for i in df.columns if '20' not in i] # Inverse of the above\n",
    "                df = df.melt(id_vars=dims, value_vars=dates, var_name='YYYYMM', value_name='SetForecast')\n",
    "                return df\n",
    "    \n",
    "    def read_bom(filepath):\n",
    "        sheetnames = pd.ExcelFile(filepath).sheet_names\n",
    "        for sheet in sheetnames:\n",
    "            df : pd.DataFrame = pd.read_excel(filepath, sheet)\n",
    "            indicator_cols = ['BOM']\n",
    "            if indicator_cols[0] in df.columns:\n",
    "                return df\n",
    "\n",
    "    def file_info(path):\n",
    "        start = -1\n",
    "        stop = -1\n",
    "        for i in range(0, 2):\n",
    "            start = stop\n",
    "            stop = pth[::-1].find(f'\\\\', stop + 1)\n",
    "        parent = pth[len(pth)-stop:len(pth)-start-1]\n",
    "        file = pth[len(pth)-start:]\n",
    "        return parent, file\n",
    "\n",
    "class AnchorCategories:\n",
    "    types = {\n",
    "        'Bom_Report': ReadAnchorData.read_bom,\n",
    "        'SetsPerMonthcombined': ReadAnchorData.readfcst,\n",
    "        'SetsPerMonthConst': ReadAnchorData.readfcst,\n",
    "        'SetsPerMonthUnConst': ReadAnchorData.readfcst\n",
    "        }\n"
   ]
  },
  {
   "cell_type": "code",
   "execution_count": 142,
   "metadata": {},
   "outputs": [],
   "source": [
    "base_dir = r'\\\\na.jnj.com\\dpyusdfsroot\\RY_Company\\Supply Chain Mgmt\\Spine Plan-NPI\\Conduit\\Jonny\\Powerbi\\Anchor'\n",
    "all_files = ReadAnchorData.get_xlsx_files(base_dir)"
   ]
  },
  {
   "cell_type": "code",
   "execution_count": 143,
   "metadata": {},
   "outputs": [],
   "source": [
    "data = ReadAnchorData.read_files(all_files[1:2])"
   ]
  },
  {
   "cell_type": "code",
   "execution_count": 190,
   "metadata": {},
   "outputs": [
    {
     "data": {
      "text/plain": [
       "'2021-07'"
      ]
     },
     "execution_count": 190,
     "metadata": {},
     "output_type": "execute_result"
    }
   ],
   "source": [
    "pth = all_files[2]\n"
   ]
  }
 ],
 "metadata": {
  "interpreter": {
   "hash": "66d9860f36bb69b5a0c70456a8f9028668343a2bc45db99e8e0e6d38c8eba860"
  },
  "kernelspec": {
   "display_name": "Python 3.9.7 64-bit ('venv': venv)",
   "language": "python",
   "name": "python3"
  },
  "language_info": {
   "codemirror_mode": {
    "name": "ipython",
    "version": 3
   },
   "file_extension": ".py",
   "mimetype": "text/x-python",
   "name": "python",
   "nbconvert_exporter": "python",
   "pygments_lexer": "ipython3",
   "version": "3.9.7"
  },
  "orig_nbformat": 4
 },
 "nbformat": 4,
 "nbformat_minor": 2
}
